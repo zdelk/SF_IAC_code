{
 "cells": [
  {
   "cell_type": "markdown",
   "metadata": {},
   "source": [
    "# XXX. (ARC 2.2515) Use Optimum Thickness Insulation  \n",
    "Created by: Zachary Delk."
   ]
  },
  {
   "cell_type": "code",
   "execution_count": 1,
   "metadata": {
    "tags": [
     "\"hide-input\"",
     "hide-input"
    ]
   },
   "outputs": [],
   "source": [
    "import importlib\n",
    "import KSU_IAC_Functions\n",
    "importlib.reload(KSU_IAC_Functions)\n",
    "from KSU_IAC_Functions import *\n",
    "from SF_IAC_constants import *\n",
    "from tabulate import tabulate\n",
    "\n",
    "orian_pipe = pd.read_csv('Orian_pipe_data.csv')\n",
    "\n",
    "#print(orian_pipe.head())"
   ]
  },
  {
   "cell_type": "code",
   "execution_count": 2,
   "metadata": {},
   "outputs": [
    {
     "name": "stdout",
     "output_type": "stream",
     "text": [
      "      ID  Description           Location        Diameter_inner_in  Length_ft      Surface_Temp      Q non      Q in     Q Diff\n",
      "--  ----  --------------------  ------------  -------------------  -----------  --------------  ---------  --------  ---------\n",
      " 0     1  Thin Pipe             0559.mov                        2  14                      253   4463.12   157.172    4305.95\n",
      " 1     2  Thin Pipe             0606.mov                        2  30                      267  10295.5    362.563    9932.92\n",
      " 2     3  Thick Pipe            0606.mov                        4  3                       267   2057.94    79.6018   1978.34\n",
      " 3     4  Flanges (Terminated)  0604.mov                        4  RIS                     443   1948.25    75.3591   1872.89\n",
      " 4     5  Valve + Flanges       0604.mov                        2  RIS                     254    480.804   16.9319    463.872\n",
      " 5     6  Boiler Pipe           0604.mov                        2  8                       120    696.818   24.5389    672.279\n",
      " 6     8  Boiler Line Pipe      Large Boiler                    3  30                      270  15668.9    595.558   15073.4\n",
      " 7     9  Flanges               Large Boiler                    6  RIS                     288   8534.96   348.294    8186.66\n"
     ]
    }
   ],
   "source": [
    "pipe_calculations = insulation_calculator(orian_pipe) # Running Data through pipe calculator from KSU_IAC_functions\n",
    "\n",
    "# Creating list of columns for the output table\n",
    "pipe_table_cols = [\"ID\", \"Description\", \"Location\", \"Diameter_inner_in\", \"Length_ft\", \"Surface_Temp\", \"Q non\", \"Q in\", \"Q Diff\"]\n",
    "\n",
    "# Sub-setting calculations to only columns need in the output table\n",
    "pipe_table_data = pipe_calculations[pipe_table_cols]\n",
    "\n",
    "print(tabulate(pipe_table_data, headers=pipe_table_cols)) # Verify subset worked\n",
    "#print(pipe_table_data.dtypes) # Check class of columns"
   ]
  },
  {
   "cell_type": "code",
   "execution_count": 3,
   "metadata": {},
   "outputs": [
    {
     "name": "stdout",
     "output_type": "stream",
     "text": [
      "╒═════════════════╤═════════════════╤═════════════╤═══════════╕\n",
      "│                 │   Non-Insulated │   Insulated │   Savings │\n",
      "╞═════════════════╪═════════════════╪═════════════╪═══════════╡\n",
      "│ Total Heat Loss │         44146.3 │     1660.02 │   42486.3 │\n",
      "╘═════════════════╧═════════════════╧═════════════╧═══════════╛\n"
     ]
    }
   ],
   "source": [
    "Q_non_total = pipe_table_data['Q non'].sum() # Total Heat Loss from Non-Insulated Pipes\n",
    "Q_in_total = pipe_table_data['Q in'].sum() # Estimated Total Heat Loss from Insulated Pipes\n",
    "Q_diff_total = pipe_table_data['Q Diff'].sum() # Estimated Total Difference between Non-Insulated and Insulated\n",
    "\n",
    "# Creating table for Heat Loss Savings\n",
    "pipe_heat_savings = [[' ', 'Non-Insulated', 'Insulated', 'Savings'],\n",
    "                     ['Total Heat Loss', Q_non_total, Q_in_total, Q_diff_total]]\n",
    "\n",
    "print(tabulate(pipe_heat_savings, headers = 'firstrow', tablefmt = 'fancy_grid')) #Table output"
   ]
  },
  {
   "cell_type": "code",
   "execution_count": 4,
   "metadata": {},
   "outputs": [
    {
     "name": "stdout",
     "output_type": "stream",
     "text": [
      "+----+------------------------------+----------------------------+------------------------+-----------------------+\n",
      "|    |   Heat_Loss_Savings_Per_Hour |   Annual_Heat_Loss_Savings |   Annual_MMBTU_Savings |   Annual_Cost_Savings |\n",
      "+====+==============================+============================+========================+=======================+\n",
      "|  0 |                      42486.3 |                2.65114e+08 |                 212.09 |               1972.45 |\n",
      "+----+------------------------------+----------------------------+------------------------+-----------------------+\n",
      "265114300\n",
      "6240\n"
     ]
    }
   ],
   "source": [
    "# Energy and Cost Savings for Pipe Insulation\n",
    "import importlib\n",
    "import KSU_IAC_Functions\n",
    "import SF_IAC_constants\n",
    "importlib.reload(KSU_IAC_Functions)\n",
    "importlib.reload(SF_IAC_constants)\n",
    "from SF_IAC_constants import *\n",
    "from KSU_IAC_Functions import pipe_saving_calc\n",
    "\n",
    "pipe_savings_data = pipe_saving_calc(Q_diff_total, 'Gas')\n",
    "if isinstance(pipe_savings_data, pd.DataFrame):\n",
    "    print(tabulate(pipe_savings_data, headers= 'keys', tablefmt= 'grid'))\n",
    "else:\n",
    "    print(pipe_savings_data)\n",
    "\n",
    "print(pipe_savings_data['Annual_Heat_Loss_Savings'][0])\n",
    "print(uptime_factory)"
   ]
  },
  {
   "cell_type": "code",
   "execution_count": 5,
   "metadata": {},
   "outputs": [
    {
     "name": "stdout",
     "output_type": "stream",
     "text": [
      "+----+--------------+-------------------------+----------------------+--------------+-------------------+-----------------------+-----------------------+---------------+----------------+\n",
      "|    |   Total Feet |   # of Special Fittings |   Total Labour Hours |   Labor Cost |   Insulation Cost |   Special Covers Cost |   Implementation Cost |   SSP (years) |   SPP (months) |\n",
      "+====+==============+=========================+======================+==============+===================+=======================+=======================+===============+================+\n",
      "|  0 |           85 |                       7 |                 10.2 |      934.626 |            810.05 |                   931 |               2675.68 |       1.35652 |           16.3 |\n",
      "+----+--------------+-------------------------+----------------------+--------------+-------------------+-----------------------+-----------------------+---------------+----------------+\n"
     ]
    }
   ],
   "source": [
    "import importlib\n",
    "import KSU_IAC_Functions\n",
    "import SF_IAC_constants\n",
    "\n",
    "importlib.reload(KSU_IAC_Functions)\n",
    "importlib.reload(SF_IAC_constants)\n",
    "import SF_IAC_constants\n",
    "from KSU_IAC_Functions import pipe_cost_n_ssp\n",
    "\n",
    "pipe_cost_data = pipe_cost_n_ssp(orian_pipe, pipe_savings_data)\n",
    "\n",
    "print(tabulate(pipe_cost_data, headers=\"keys\", tablefmt=\"grid\"))"
   ]
  }
 ],
 "metadata": {
  "kernelspec": {
   "display_name": "Python 3",
   "language": "python",
   "name": "python3"
  },
  "language_info": {
   "codemirror_mode": {
    "name": "ipython",
    "version": 3
   },
   "file_extension": ".py",
   "mimetype": "text/x-python",
   "name": "python",
   "nbconvert_exporter": "python",
   "pygments_lexer": "ipython3",
   "version": "3.11.9"
  }
 },
 "nbformat": 4,
 "nbformat_minor": 2
}
