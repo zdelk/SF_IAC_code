{
 "cells": [
  {
   "cell_type": "code",
   "execution_count": 23,
   "metadata": {},
   "outputs": [],
   "source": [
    "from KSU_IAC_Functions import *\n",
    "from SF_IAC_constants import *\n",
    "from tabulate import tabulate\n",
    "\n",
    "orian_pipe = pd.read_csv('Orian_pipe_data.csv')\n",
    "\n",
    "#print(orian_pipe.head())"
   ]
  },
  {
   "cell_type": "code",
   "execution_count": 24,
   "metadata": {},
   "outputs": [],
   "source": [
    "pipe_calculations = insulation_calculator(orian_pipe) # Running Data through pipe calculator from KSU_IAC_functions\n",
    "\n",
    "# Creating list of columns for the output table\n",
    "pipe_table_cols = [\"ID\", \"Description\", \"Location\", \"Diameter_inner_in\", \"Length_ft\", \"Surface_Temp\", \"Q non\", \"Q in\", \"Q Diff\"]\n",
    "\n",
    "# Sub-setting calculations to only columns need in the output table\n",
    "pipe_table_data = pipe_calculations[pipe_table_cols]\n",
    "\n",
    "#print(pipe_table_data.head()) # Verify subset worked\n",
    "#print(pipe_table_data.dtypes) # Check class of columns"
   ]
  },
  {
   "cell_type": "code",
   "execution_count": 25,
   "metadata": {},
   "outputs": [
    {
     "name": "stdout",
     "output_type": "stream",
     "text": [
      "╒═════════════════╤═════════════════╤═════════════╤═══════════╕\n",
      "│                 │   Non-Insulated │   Insulated │   Savings │\n",
      "╞═════════════════╪═════════════════╪═════════════╪═══════════╡\n",
      "│ Total Heat Loss │         60463.4 │     2357.57 │   58105.8 │\n",
      "╘═════════════════╧═════════════════╧═════════════╧═══════════╛\n"
     ]
    }
   ],
   "source": [
    "Q_non_total = pipe_table_data['Q non'].sum() # Total Heat Loss from Non-Insulated Pipes\n",
    "Q_in_total = pipe_table_data['Q in'].sum() # Estimated Total Heat Loss from Insulated Pipes\n",
    "Q_diff_total = pipe_table_data['Q Diff'].sum() # Estimated Total Difference between Non-Insulated and Insulated\n",
    "\n",
    "# Creating table for Heat Loss Savings\n",
    "pipe_heat_savings = [[' ', 'Non-Insulated', 'Insulated', 'Savings'],\n",
    "                     ['Total Heat Loss', Q_non_total, Q_in_total, Q_diff_total]]\n",
    "\n",
    "print(tabulate(pipe_heat_savings, headers = 'firstrow', tablefmt = 'fancy_grid')) #Table output"
   ]
  },
  {
   "cell_type": "code",
   "execution_count": 26,
   "metadata": {},
   "outputs": [
    {
     "name": "stdout",
     "output_type": "stream",
     "text": [
      "|----------------------------|-----------------------|------------------------------|----------------------|-------------------|------------------|---------------------|\n",
      "| Heat_Loss_Savings_Per_Hour | Peak_Demand_Reduction | Annual_Peak_Demand_Reduction | Annual_KWh_Reduction | Cost_Savings_Peak | Cost_Savings_KWh | Annual_Cost_Savings |\n",
      "| 58105.82                   | 17.03                 | 204.36                       | 145502.97            | 7857.16           | 2656.66          | 10513.82            |\n",
      "<class 'list'>\n"
     ]
    }
   ],
   "source": [
    "# Energy and Cost Savings for Pipe Insulation\n",
    "from KSU_IAC_Functions import pipe_saving_calc\n",
    "\n",
    "test_table = pipe_saving_calc(Q_diff_total, 'Electric')\n",
    "print(tabulate(test_table, tablefmt= 'github'))\n",
    "print(test_table.__class__ )"
   ]
  }
 ],
 "metadata": {
  "kernelspec": {
   "display_name": "Python 3",
   "language": "python",
   "name": "python3"
  },
  "language_info": {
   "codemirror_mode": {
    "name": "ipython",
    "version": 3
   },
   "file_extension": ".py",
   "mimetype": "text/x-python",
   "name": "python",
   "nbconvert_exporter": "python",
   "pygments_lexer": "ipython3",
   "version": "3.11.9"
  }
 },
 "nbformat": 4,
 "nbformat_minor": 2
}
